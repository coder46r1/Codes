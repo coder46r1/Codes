{
  "nbformat": 4,
  "nbformat_minor": 0,
  "metadata": {
    "colab": {
      "provenance": [],
      "gpuType": "T4"
    },
    "kernelspec": {
      "name": "python3",
      "display_name": "Python 3"
    },
    "language_info": {
      "name": "python"
    },
    "accelerator": "GPU",
    "gpuClass": "standard"
  },
  "cells": [
    {
      "cell_type": "code",
      "execution_count": null,
      "metadata": {
        "colab": {
          "base_uri": "https://localhost:8080/"
        },
        "id": "enfjq6aK3GZB",
        "outputId": "355e0e9a-004a-4333-f2bf-d6bf31e98b83"
      },
      "outputs": [
        {
          "output_type": "stream",
          "name": "stdout",
          "text": [
            "nvcc: NVIDIA (R) Cuda compiler driver\n",
            "Copyright (c) 2005-2022 NVIDIA Corporation\n",
            "Built on Wed_Sep_21_10:33:58_PDT_2022\n",
            "Cuda compilation tools, release 11.8, V11.8.89\n",
            "Build cuda_11.8.r11.8/compiler.31833905_0\n"
          ]
        }
      ],
      "source": [
        "!nvcc --version"
      ]
    },
    {
      "cell_type": "code",
      "source": [
        "%%writefile vector.cu\n",
        "#include <stdio.h>\n",
        "\n",
        "#define N 50\n",
        "\n",
        "__global__\n",
        "void vectorAdd(int* a, int* b, int* c)\n",
        "{\n",
        "    int i = blockIdx.x * blockDim.x + threadIdx.x;\n",
        "    if (i < N)\n",
        "        c[i] = a[i] + b[i];\n",
        "}\n",
        "\n",
        "int main()\n",
        "{\n",
        "    int *a, *b, *c;  // Host vectors\n",
        "    int *d_a, *d_b, *d_c;  // Device vectors\n",
        "\n",
        "    // Allocate memory for host vectors\n",
        "    a = (int*)malloc(N * sizeof(int));\n",
        "    b = (int*)malloc(N * sizeof(int));\n",
        "    c = (int*)malloc(N * sizeof(int));\n",
        "\n",
        "    // Initialize host vectors\n",
        "    for (int i = 0; i < N; ++i)\n",
        "    {\n",
        "        a[i] = i;\n",
        "        b[i] = i;\n",
        "    }\n",
        "\n",
        "    // Allocate memory for device vectors\n",
        "    cudaMalloc(&d_a, N * sizeof(int));\n",
        "    cudaMalloc(&d_b, N * sizeof(int));\n",
        "    cudaMalloc(&d_c, N * sizeof(int));\n",
        "\n",
        "    // Copy host vectors to device\n",
        "    cudaMemcpy(d_a, a, N * sizeof(int), cudaMemcpyHostToDevice);\n",
        "    cudaMemcpy(d_b, b, N * sizeof(int), cudaMemcpyHostToDevice);\n",
        "\n",
        "    // Launch kernel on device\n",
        "    int blockSize = 256;\n",
        "    int gridSize = (N + blockSize - 1) / blockSize;\n",
        "    vectorAdd<<<gridSize, blockSize>>>(d_a, d_b, d_c);\n",
        "\n",
        "    // Copy result from device to host\n",
        "    cudaMemcpy(c, d_c, N * sizeof(int), cudaMemcpyDeviceToHost);\n",
        "\n",
        "    // Print the result\n",
        "    for (int i = 0; i < N; ++i)\n",
        "    {\n",
        "        printf(\"%d + %d = %d\\n\", a[i], b[i], c[i]);\n",
        "    }\n",
        "\n",
        "    // Free device memory\n",
        "    cudaFree(d_a);\n",
        "    cudaFree(d_b);\n",
        "    cudaFree(d_c);\n",
        "\n",
        "    // Free host memory\n",
        "    free(a);\n",
        "    free(b);\n",
        "    free(c);\n",
        "\n",
        "    return 0;\n",
        "}"
      ],
      "metadata": {
        "colab": {
          "base_uri": "https://localhost:8080/"
        },
        "id": "Z29TQdxYFxUX",
        "outputId": "f36f4ea5-0c7f-44e6-9717-9ac969e52d9f"
      },
      "execution_count": null,
      "outputs": [
        {
          "output_type": "stream",
          "name": "stdout",
          "text": [
            "Overwriting vector.cu\n"
          ]
        }
      ]
    },
    {
      "cell_type": "code",
      "source": [
        "!nvcc vector.cu -o vect"
      ],
      "metadata": {
        "id": "A6HUaZX-HPij"
      },
      "execution_count": null,
      "outputs": []
    },
    {
      "cell_type": "code",
      "source": [
        "!./vect\n"
      ],
      "metadata": {
        "colab": {
          "base_uri": "https://localhost:8080/"
        },
        "id": "V0SFMTALIuq1",
        "outputId": "f2d2796d-7af9-4ad2-913e-08ea0a8b0ff8"
      },
      "execution_count": null,
      "outputs": [
        {
          "output_type": "stream",
          "name": "stdout",
          "text": [
            "0 + 0 = 0\n",
            "1 + 1 = 2\n",
            "2 + 2 = 4\n",
            "3 + 3 = 6\n",
            "4 + 4 = 8\n",
            "5 + 5 = 10\n",
            "6 + 6 = 12\n",
            "7 + 7 = 14\n",
            "8 + 8 = 16\n",
            "9 + 9 = 18\n",
            "10 + 10 = 20\n",
            "11 + 11 = 22\n",
            "12 + 12 = 24\n",
            "13 + 13 = 26\n",
            "14 + 14 = 28\n",
            "15 + 15 = 30\n",
            "16 + 16 = 32\n",
            "17 + 17 = 34\n",
            "18 + 18 = 36\n",
            "19 + 19 = 38\n",
            "20 + 20 = 40\n",
            "21 + 21 = 42\n",
            "22 + 22 = 44\n",
            "23 + 23 = 46\n",
            "24 + 24 = 48\n",
            "25 + 25 = 50\n",
            "26 + 26 = 52\n",
            "27 + 27 = 54\n",
            "28 + 28 = 56\n",
            "29 + 29 = 58\n",
            "30 + 30 = 60\n",
            "31 + 31 = 62\n",
            "32 + 32 = 64\n",
            "33 + 33 = 66\n",
            "34 + 34 = 68\n",
            "35 + 35 = 70\n",
            "36 + 36 = 72\n",
            "37 + 37 = 74\n",
            "38 + 38 = 76\n",
            "39 + 39 = 78\n",
            "40 + 40 = 80\n",
            "41 + 41 = 82\n",
            "42 + 42 = 84\n",
            "43 + 43 = 86\n",
            "44 + 44 = 88\n",
            "45 + 45 = 90\n",
            "46 + 46 = 92\n",
            "47 + 47 = 94\n",
            "48 + 48 = 96\n",
            "49 + 49 = 98\n"
          ]
        }
      ]
    },
    {
      "cell_type": "code",
      "source": [
        "!nvprof ./vect"
      ],
      "metadata": {
        "colab": {
          "base_uri": "https://localhost:8080/"
        },
        "id": "erz4qA_ELahX",
        "outputId": "b7bb6cf3-964a-4606-f40f-5e82cdebf8ce"
      },
      "execution_count": null,
      "outputs": [
        {
          "output_type": "stream",
          "name": "stdout",
          "text": [
            "==11401== NVPROF is profiling process 11401, command: ./vect\n",
            "0 + 0 = 0\n",
            "1 + 1 = 2\n",
            "2 + 2 = 4\n",
            "3 + 3 = 6\n",
            "4 + 4 = 8\n",
            "5 + 5 = 10\n",
            "6 + 6 = 12\n",
            "7 + 7 = 14\n",
            "8 + 8 = 16\n",
            "9 + 9 = 18\n",
            "10 + 10 = 20\n",
            "11 + 11 = 22\n",
            "12 + 12 = 24\n",
            "13 + 13 = 26\n",
            "14 + 14 = 28\n",
            "15 + 15 = 30\n",
            "16 + 16 = 32\n",
            "17 + 17 = 34\n",
            "18 + 18 = 36\n",
            "19 + 19 = 38\n",
            "20 + 20 = 40\n",
            "21 + 21 = 42\n",
            "22 + 22 = 44\n",
            "23 + 23 = 46\n",
            "24 + 24 = 48\n",
            "25 + 25 = 50\n",
            "26 + 26 = 52\n",
            "27 + 27 = 54\n",
            "28 + 28 = 56\n",
            "29 + 29 = 58\n",
            "30 + 30 = 60\n",
            "31 + 31 = 62\n",
            "32 + 32 = 64\n",
            "33 + 33 = 66\n",
            "34 + 34 = 68\n",
            "35 + 35 = 70\n",
            "36 + 36 = 72\n",
            "37 + 37 = 74\n",
            "38 + 38 = 76\n",
            "39 + 39 = 78\n",
            "40 + 40 = 80\n",
            "41 + 41 = 82\n",
            "42 + 42 = 84\n",
            "43 + 43 = 86\n",
            "44 + 44 = 88\n",
            "45 + 45 = 90\n",
            "46 + 46 = 92\n",
            "47 + 47 = 94\n",
            "48 + 48 = 96\n",
            "49 + 49 = 98\n",
            "==11401== Profiling application: ./vect\n",
            "==11401== Profiling result:\n",
            "            Type  Time(%)      Time     Calls       Avg       Min       Max  Name\n",
            " GPU activities:   46.32%  4.6400us         1  4.6400us  4.6400us  4.6400us  vectorAdd(int*, int*, int*)\n",
            "                   32.58%  3.2640us         2  1.6320us  1.3760us  1.8880us  [CUDA memcpy HtoD]\n",
            "                   21.09%  2.1130us         1  2.1130us  2.1130us  2.1130us  [CUDA memcpy DtoH]\n",
            "      API calls:   99.85%  220.15ms         3  73.383ms  3.1770us  220.14ms  cudaMalloc\n",
            "                    0.05%  113.62us       101  1.1240us     122ns  46.350us  cuDeviceGetAttribute\n",
            "                    0.05%  100.39us         3  33.463us  3.7300us  85.790us  cudaFree\n",
            "                    0.02%  48.963us         3  16.321us  7.6440us  22.157us  cudaMemcpy\n",
            "                    0.01%  27.789us         1  27.789us  27.789us  27.789us  cudaLaunchKernel\n",
            "                    0.01%  26.924us         1  26.924us  26.924us  26.924us  cuDeviceGetName\n",
            "                    0.00%  6.0670us         1  6.0670us  6.0670us  6.0670us  cuDeviceGetPCIBusId\n",
            "                    0.00%  1.9560us         3     652ns     194ns  1.4540us  cuDeviceGetCount\n",
            "                    0.00%     942ns         2     471ns     255ns     687ns  cuDeviceGet\n",
            "                    0.00%     375ns         1     375ns     375ns     375ns  cuDeviceTotalMem\n",
            "                    0.00%     370ns         1     370ns     370ns     370ns  cuModuleGetLoadingMode\n",
            "                    0.00%     208ns         1     208ns     208ns     208ns  cuDeviceGetUuid\n"
          ]
        }
      ]
    }
  ]
}