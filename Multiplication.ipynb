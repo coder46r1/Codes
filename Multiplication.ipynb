{
  "nbformat": 4,
  "nbformat_minor": 0,
  "metadata": {
    "colab": {
      "provenance": [],
      "gpuType": "T4"
    },
    "kernelspec": {
      "name": "python3",
      "display_name": "Python 3"
    },
    "language_info": {
      "name": "python"
    },
    "accelerator": "GPU",
    "gpuClass": "standard"
  },
  "cells": [
    {
      "cell_type": "code",
      "execution_count": null,
      "metadata": {
        "colab": {
          "base_uri": "https://localhost:8080/"
        },
        "id": "lyqhR3vIFwK_",
        "outputId": "2694fe2e-9cf3-4650-9b92-4de57ff2708c"
      },
      "outputs": [
        {
          "output_type": "stream",
          "name": "stdout",
          "text": [
            "nvcc: NVIDIA (R) Cuda compiler driver\n",
            "Copyright (c) 2005-2022 NVIDIA Corporation\n",
            "Built on Wed_Sep_21_10:33:58_PDT_2022\n",
            "Cuda compilation tools, release 11.8, V11.8.89\n",
            "Build cuda_11.8.r11.8/compiler.31833905_0\n"
          ]
        }
      ],
      "source": [
        "!nvcc --version"
      ]
    },
    {
      "cell_type": "code",
      "source": [
        "%%writefile Multi.cu\n",
        "#include <cuda_runtime.h>\n",
        "#include <iostream>\n",
        "__global__ void matmul(int* A, int* B, int* C, int N) {\n",
        "int Row = blockIdx.y*blockDim.y+threadIdx.y;\n",
        "int Col = blockIdx.x*blockDim.x+threadIdx.x;\n",
        "if (Row < N && Col < N) {\n",
        "int Pvalue = 0;\n",
        "for (int k = 0; k < N; k++) {\n",
        "Pvalue += A[Row*N+k] * B[k*N+Col];\n",
        "}\n",
        "C[Row*N+Col] = Pvalue;\n",
        "}\n",
        "}\n",
        "int main() {\n",
        "int N = 100;\n",
        "int size = N * N * sizeof(int);\n",
        "int* A, * B, * C;\n",
        "int* dev_A, * dev_B, * dev_C;\n",
        "cudaMallocHost(&A, size);\n",
        "cudaMallocHost(&B, size);\n",
        "cudaMallocHost(&C, size);\n",
        "cudaMalloc(&dev_A, size);\n",
        "cudaMalloc(&dev_B, size);\n",
        "cudaMalloc(&dev_C, size);\n",
        "// Initialize matrices A and B\n",
        "for (int i = 0; i < N; i++) {\n",
        "for (int j = 0; j < N; j++) {\n",
        "A[i*N+j] = i*N+j;\n",
        "B[i*N+j] = j*N+i;\n",
        "}\n",
        "}\n",
        "cudaMemcpy(dev_A, A, size,\n",
        "cudaMemcpyHostToDevice);\n",
        "cudaMemcpy(dev_B, B, size,\n",
        "cudaMemcpyHostToDevice);\n",
        "dim3 dimBlock(16, 16);\n",
        "dim3 dimGrid(N/dimBlock.x, N/dimBlock.y);\n",
        "matmul<<<dimGrid, dimBlock>>>(dev_A, dev_B,dev_C, N);\n",
        "cudaMemcpy(C, dev_C, size, cudaMemcpyDeviceToHost);\n",
        "// Print the result\n",
        "for (int i = 0; i < 10; i++) {\n",
        "for (int j = 0; j < 10; j++) {\n",
        "std::cout << C[i*N+j] << \" \";\n",
        "}\n",
        "std::cout << std::endl;\n",
        "}\n",
        "// Free memory\n",
        "cudaFree(dev_A);\n",
        "cudaFree(dev_B);\n",
        "cudaFree(dev_C);\n",
        "cudaFreeHost(A);\n",
        "cudaFreeHost(B);\n",
        "cudaFreeHost(C);\n",
        "return 0;\n",
        "}"
      ],
      "metadata": {
        "colab": {
          "base_uri": "https://localhost:8080/"
        },
        "id": "CnB_nRRrGAyR",
        "outputId": "886ecd9f-b825-4fcd-a9d7-53ac638d2a15"
      },
      "execution_count": null,
      "outputs": [
        {
          "output_type": "stream",
          "name": "stdout",
          "text": [
            "Overwriting Multi.cu\n"
          ]
        }
      ]
    },
    {
      "cell_type": "code",
      "source": [
        "!nvcc Multi.cu -o Multi"
      ],
      "metadata": {
        "id": "A5S57gB_GBDb"
      },
      "execution_count": null,
      "outputs": []
    },
    {
      "cell_type": "code",
      "source": [
        "!./Multi"
      ],
      "metadata": {
        "colab": {
          "base_uri": "https://localhost:8080/"
        },
        "id": "2iNAzjZFGeF2",
        "outputId": "df6d85fd-fb32-4fc8-a3e2-c4d4a92982a9"
      },
      "execution_count": null,
      "outputs": [
        {
          "output_type": "stream",
          "name": "stdout",
          "text": [
            "328350 823350 1318350 1813350 2308350 2803350 3298350 3793350 4288350 4783350 \n",
            "823350 2318350 3813350 5308350 6803350 8298350 9793350 11288350 12783350 14278350 \n",
            "1318350 3813350 6308350 8803350 11298350 13793350 16288350 18783350 21278350 23773350 \n",
            "1813350 5308350 8803350 12298350 15793350 19288350 22783350 26278350 29773350 33268350 \n",
            "2308350 6803350 11298350 15793350 20288350 24783350 29278350 33773350 38268350 42763350 \n",
            "2803350 8298350 13793350 19288350 24783350 30278350 35773350 41268350 46763350 52258350 \n",
            "3298350 9793350 16288350 22783350 29278350 35773350 42268350 48763350 55258350 61753350 \n",
            "3793350 11288350 18783350 26278350 33773350 41268350 48763350 56258350 63753350 71248350 \n",
            "4288350 12783350 21278350 29773350 38268350 46763350 55258350 63753350 72248350 80743350 \n",
            "4783350 14278350 23773350 33268350 42763350 52258350 61753350 71248350 80743350 90238350 \n"
          ]
        }
      ]
    }
  ]
}